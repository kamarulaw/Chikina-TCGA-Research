{
 "cells": [
  {
   "cell_type": "code",
   "execution_count": 70,
   "metadata": {},
   "outputs": [],
   "source": [
    "%%capture\n",
    "import os, pickle\n",
    "import numpy as np\n",
    "import pandas as pd\n",
    "import tensorflow as tf\n",
    "import matplotlib.pyplot as plt\n",
    "from collections import defaultdict\n",
    "from sklearn import metrics\n",
    "from sklearn import linear_model\n",
    "from sklearn.model_selection import train_test_split\n",
    "from sklearn.metrics import plot_roc_curve, accuracy_score, auc, average_precision_score, confusion_matrix, roc_curve, precision_recall_curve, plot_precision_recall_curve, precision_recall_fscore_support\n",
    "from sklearn.linear_model import LogisticRegression\n",
    "sess = tf.Session()"
   ]
  },
  {
   "cell_type": "markdown",
   "metadata": {},
   "source": [
    "## Data Preparation"
   ]
  },
  {
   "cell_type": "code",
   "execution_count": 75,
   "metadata": {},
   "outputs": [],
   "source": [
    "# read in data \n",
    "data = pd.read_csv(\"../data/DataMatched.txt\", delimiter=\"\\t\")\n",
    "data.rename(columns={\"Unnamed: 0\":\"features\"}, inplace=True)\n",
    "#data.set_index('features')\n",
    "# drop last row.  since it has NaN values\n",
    "data.drop(data.tail(1).index,inplace=True)"
   ]
  },
  {
   "cell_type": "code",
   "execution_count": 76,
   "metadata": {},
   "outputs": [],
   "source": [
    "# read in target info\n",
    "target = pd.read_csv(\"../data/TargetMutations.txt\", delimiter=\"\\t\")\n",
    "target.rename(columns={\"Unnamed: 0\":\"features\"}, inplace=True)\n",
    "#target.set_index('features')"
   ]
  },
  {
   "cell_type": "code",
   "execution_count": 77,
   "metadata": {},
   "outputs": [],
   "source": [
    "# read in info\n",
    "info = pd.read_csv(\"../data/infoMatched.txt\", delimiter=\"\\t\")\n",
    "info.drop(columns=[\"Unnamed: 0\"], axis=1, inplace=True)"
   ]
  },
  {
   "cell_type": "code",
   "execution_count": 78,
   "metadata": {},
   "outputs": [],
   "source": [
    "# save/load tp53 target\n",
    "targetpath = \"../data/tp53.npy\"\n",
    "if not os.path.exists(targetpath):\n",
    "    y = target.loc[target[\"features\"] == \"TP53\"].values\n",
    "    y = np.asarray(y.tolist()[0][1:])\n",
    "    np.save(targetpath, y)\n",
    "else: \n",
    "    y = np.load(targetpath, allow_pickle=True)"
   ]
  },
  {
   "cell_type": "code",
   "execution_count": 79,
   "metadata": {},
   "outputs": [],
   "source": [
    "# setup data frame for merge\n",
    "data.set_index(keys=\"features\", inplace=True)\n",
    "trans_data = data.T\n",
    "trans_data.reset_index(inplace=True)\n",
    "trans_data.rename(columns={\"index\":\"SAMPLE_BARCODE\"}, inplace=True)\n",
    "trans_data.set_index(\"SAMPLE_BARCODE\", inplace=True)"
   ]
  },
  {
   "cell_type": "code",
   "execution_count": 80,
   "metadata": {},
   "outputs": [
    {
     "name": "stdout",
     "output_type": "stream",
     "text": [
      "Disease Dictionary\n",
      "{'KICH': 28, 'UCEC': 5, 'ESCA': 8, 'BRCA': 14, 'TGCT': 7, 'STAD': 18, 'DLBC': 27, 'HNSC': 23, 'LUSC': 3, 'SKCM': 19, 'UCS': 29, 'OV': 1, 'BLCA': 6, 'SARC': 13, 'LUAD': 2, 'MESO': 16, 'UVM': 32, 'LIHC': 11, 'CESC': 12, 'PAAD': 9, 'ACC': 30, 'KIRP': 10, 'LAML': 24, 'PRAD': 4, 'CHOL': 20, 'READ': 25, 'PCPG': 31, 'GBM': 0, 'COAD': 17, 'LGG': 26, 'THYM': 15, 'THCA': 22, 'KIRC': 21}\n",
      "\n",
      "Inverse Disease Dictionary\n",
      "{0: 'GBM', 1: 'OV', 2: 'LUAD', 3: 'LUSC', 4: 'PRAD', 5: 'UCEC', 6: 'BLCA', 7: 'TGCT', 8: 'ESCA', 9: 'PAAD', 10: 'KIRP', 11: 'LIHC', 12: 'CESC', 13: 'SARC', 14: 'BRCA', 15: 'THYM', 16: 'MESO', 17: 'COAD', 18: 'STAD', 19: 'SKCM', 20: 'CHOL', 21: 'KIRC', 22: 'THCA', 23: 'HNSC', 24: 'LAML', 25: 'READ', 26: 'LGG', 27: 'DLBC', 28: 'KICH', 29: 'UCS', 30: 'ACC', 31: 'PCPG', 32: 'UVM'}\n"
     ]
    }
   ],
   "source": [
    "# setup info frame for merge\n",
    "info.set_index(\"SAMPLE_BARCODE\", inplace=True)\n",
    "info.drop(columns=[\"PATIENT_BARCODE\", \"SUBTYPE\"], axis=1, inplace=True)\n",
    "\n",
    "# change DISEASE to DISEASE_ID  \n",
    "\n",
    "## create disease dictionary\n",
    "diseases = info.DISEASE.unique()\n",
    "disease_dict = dict(zip(diseases, range(len(diseases))))\n",
    "invdisease_dict = {v: k for k, v in disease_dict.items()} # needed for visualization\n",
    "\n",
    "## DISEASE -> DISEASE_ID\n",
    "info[\"DISEASE_ID\"] = info[\"DISEASE\"].map(disease_dict)\n",
    "info.drop(columns=[\"DISEASE\"], axis=1, inplace=True)\n",
    "print(\"Disease Dictionary\")\n",
    "print(disease_dict)\n",
    "print()\n",
    "print(\"Inverse Disease Dictionary\")\n",
    "print(invdisease_dict)"
   ]
  },
  {
   "cell_type": "code",
   "execution_count": 81,
   "metadata": {},
   "outputs": [
    {
     "data": {
      "text/html": [
       "<div>\n",
       "<style scoped>\n",
       "    .dataframe tbody tr th:only-of-type {\n",
       "        vertical-align: middle;\n",
       "    }\n",
       "\n",
       "    .dataframe tbody tr th {\n",
       "        vertical-align: top;\n",
       "    }\n",
       "\n",
       "    .dataframe thead th {\n",
       "        text-align: right;\n",
       "    }\n",
       "</style>\n",
       "<table border=\"1\" class=\"dataframe\">\n",
       "  <thead>\n",
       "    <tr style=\"text-align: right;\">\n",
       "      <th></th>\n",
       "      <th>A1BG</th>\n",
       "      <th>A1CF</th>\n",
       "      <th>A2BP1</th>\n",
       "      <th>A2LD1</th>\n",
       "      <th>A2M</th>\n",
       "      <th>A2ML1</th>\n",
       "      <th>A4GALT</th>\n",
       "      <th>A4GNT</th>\n",
       "      <th>AAA1</th>\n",
       "      <th>AAAS</th>\n",
       "      <th>...</th>\n",
       "      <th>SLC22A15</th>\n",
       "      <th>SLC22A1</th>\n",
       "      <th>SLC22A16</th>\n",
       "      <th>SLC22A17</th>\n",
       "      <th>SLC22A18</th>\n",
       "      <th>SLC22A18AS</th>\n",
       "      <th>SLC22A20</th>\n",
       "      <th>SLC22A23</th>\n",
       "      <th>DISEASE_ID</th>\n",
       "      <th>target</th>\n",
       "    </tr>\n",
       "  </thead>\n",
       "  <tbody>\n",
       "    <tr>\n",
       "      <th>0</th>\n",
       "      <td>6.445364</td>\n",
       "      <td>0.061528</td>\n",
       "      <td>7.602398</td>\n",
       "      <td>5.106361</td>\n",
       "      <td>15.38323</td>\n",
       "      <td>4.665664</td>\n",
       "      <td>4.43449</td>\n",
       "      <td>0.866948</td>\n",
       "      <td>0.866948</td>\n",
       "      <td>8.743729</td>\n",
       "      <td>...</td>\n",
       "      <td>5.720371</td>\n",
       "      <td>0.482858</td>\n",
       "      <td>1.149002</td>\n",
       "      <td>12.084891</td>\n",
       "      <td>5.205603</td>\n",
       "      <td>0.482858</td>\n",
       "      <td>0.061528</td>\n",
       "      <td>10.121061</td>\n",
       "      <td>0</td>\n",
       "      <td>0</td>\n",
       "    </tr>\n",
       "  </tbody>\n",
       "</table>\n",
       "<p>1 rows × 16141 columns</p>\n",
       "</div>"
      ],
      "text/plain": [
       "       A1BG      A1CF     A2BP1     A2LD1       A2M     A2ML1   A4GALT  \\\n",
       "0  6.445364  0.061528  7.602398  5.106361  15.38323  4.665664  4.43449   \n",
       "\n",
       "      A4GNT      AAA1      AAAS  ...  SLC22A15   SLC22A1  SLC22A16   SLC22A17  \\\n",
       "0  0.866948  0.866948  8.743729  ...  5.720371  0.482858  1.149002  12.084891   \n",
       "\n",
       "   SLC22A18  SLC22A18AS  SLC22A20   SLC22A23  DISEASE_ID  target  \n",
       "0  5.205603    0.482858  0.061528  10.121061           0       0  \n",
       "\n",
       "[1 rows x 16141 columns]"
      ]
     },
     "execution_count": 81,
     "metadata": {},
     "output_type": "execute_result"
    }
   ],
   "source": [
    "# merge features w/ disease_id\n",
    "frame = trans_data.merge(info, on=\"SAMPLE_BARCODE\")\n",
    "frame.reset_index(inplace=True)\n",
    "frame.drop(\"SAMPLE_BARCODE\", axis=1, inplace=True)\n",
    "\n",
    "# add target to dataframe\n",
    "frame[\"target\"] = y\n",
    "frame.head(1)"
   ]
  },
  {
   "cell_type": "markdown",
   "metadata": {},
   "source": [
    "## Train/Validate/Visualize"
   ]
  },
  {
   "cell_type": "code",
   "execution_count": 83,
   "metadata": {},
   "outputs": [
    {
     "name": "stderr",
     "output_type": "stream",
     "text": [
      "/usr/local/lib/python3.5/dist-packages/pandas/core/ops.py:1649: FutureWarning: elementwise comparison failed; returning scalar instead, but in the future will perform elementwise comparison\n",
      "  result = method(y)\n"
     ]
    }
   ],
   "source": [
    "# check for NaNs\n",
    "assert(frame.shape == frame.dropna(how=\"all\").shape)  \n",
    "assert(frame.dropna(how=\"all\").shape == frame.dropna(how=\"any\").shape)\n",
    "\n",
    "# remove UVM disease fold\n",
    "frame = frame.loc[frame[\"DISEASE_ID\"] != \"UVM\"] # UVM fold is resulting in a NaN mean so remove for now "
   ]
  },
  {
   "cell_type": "code",
   "execution_count": 82,
   "metadata": {},
   "outputs": [],
   "source": [
    "# # test code on shrunken dataframe\n",
    "# frame = frame.drop_duplicates(subset=[\"DISEASE_ID\"], keep=\"first\")\n",
    "# frame = pd.concat((frame, frame, frame))\n",
    "# frame.shape"
   ]
  },
  {
   "cell_type": "code",
   "execution_count": null,
   "metadata": {},
   "outputs": [
    {
     "name": "stdout",
     "output_type": "stream",
     "text": [
      "['TP53', 'PIK3CA', 'KRAS', 'PTEN', 'ARID1A', 'RB1', 'FBXW7', 'NRAS', 'CDKN2A', 'CTNNB1']\n"
     ]
    },
    {
     "name": "stderr",
     "output_type": "stream",
     "text": [
      "/usr/local/lib/python3.5/dist-packages/sklearn/linear_model/_sag.py:330: ConvergenceWarning: The max_iter was reached which means the coef_ did not converge\n",
      "  \"the coef_ did not converge\", ConvergenceWarning)\n",
      "/usr/local/lib/python3.5/dist-packages/sklearn/linear_model/_sag.py:330: ConvergenceWarning: The max_iter was reached which means the coef_ did not converge\n",
      "  \"the coef_ did not converge\", ConvergenceWarning)\n",
      "/usr/local/lib/python3.5/dist-packages/sklearn/linear_model/_sag.py:330: ConvergenceWarning: The max_iter was reached which means the coef_ did not converge\n",
      "  \"the coef_ did not converge\", ConvergenceWarning)\n",
      "/usr/local/lib/python3.5/dist-packages/sklearn/linear_model/_sag.py:330: ConvergenceWarning: The max_iter was reached which means the coef_ did not converge\n",
      "  \"the coef_ did not converge\", ConvergenceWarning)\n"
     ]
    }
   ],
   "source": [
    "## save additional proteins to be used as Y targets \n",
    "more_proteins = \"TP53,PIK3CA,KRAS,PTEN,ARID1A,RB1,FBXW7,NRAS,CDKN2A,CTNNB1\"\n",
    "more_proteins=more_proteins.split(\",\")\n",
    "print(more_proteins)\n",
    "\n",
    "# store mean_auc + mean_aupr for each Y value in more_proteins\n",
    "y_mean_aucs = defaultdict(float)\n",
    "y_mean_auprs = defaultdict(float)\n",
    "\n",
    "for prot in more_proteins: \n",
    "    # store target for training\n",
    "    y = target.loc[target[\"features\"] == prot].values\n",
    "    y = np.asarray(y.tolist()[0][1:])\n",
    "    # y = y[:99]\n",
    "    frame[\"target\"] = y \n",
    "    y_prot_name = prot\n",
    "    \n",
    "    random_state=777\n",
    "    # define elasticnet classifier\n",
    "    classifier = LogisticRegression(penalty=\"elasticnet\", random_state=random_state, solver=\"saga\", l1_ratio=.5, n_jobs=-1)\n",
    "\n",
    "    # store parameters for ROC + AUPR Visualization/Analysis\n",
    "    \n",
    "    ## AUPR Variables\n",
    "    y_real = []\n",
    "    y_proba = []\n",
    "\n",
    "    # train/predict\n",
    "    fig, ax = plt.subplots()\n",
    "    for disease_index in list(disease_dict.values()): \n",
    "        # split data based on disease class\n",
    "        train = frame.loc[frame[\"DISEASE_ID\"] != disease_index]\n",
    "        test = frame.loc[frame[\"DISEASE_ID\"] == disease_index]\n",
    "    \n",
    "        # drop disese id (frame -> X|y)\n",
    "        train.drop(columns=[\"DISEASE_ID\"], axis=1)\n",
    "        test.drop(columns=[\"DISEASE_ID\"], axis=1)\n",
    "    \n",
    "        # save y_train, y_test\n",
    "        y_train, y_test = train[\"target\"], test[\"target\"]\n",
    "    \n",
    "        # drop target (X|y -> X)\n",
    "        X_train, X_test = train.drop(columns=[\"target\"], axis=1), test.drop(columns=[\"target\"], axis=1)\n",
    "    \n",
    "        # fit model + save probabilities for aupr \n",
    "        probas_ = classifier.fit(X_train, y_train).predict_proba(X_test) \n",
    "        \n",
    "        # save predictions for future analysis\n",
    "        preds = classifier.fit(X_train, y_train).predict(X_test) \n",
    "        predpath = \"../data/\" + y_prot_name + \"_\" + invdisease_dict[disease_index] + \"_STRATPREDS.npy\"\n",
    "        np.save(predpath, preds)\n",
    "        \n",
    "        viz = plot_precision_recall_curve(classifier, X_test, y_test,\n",
    "                             name=y_prot_name + ' PR Curve fold {}'.format(invdisease_dict[disease_index]),\n",
    "                             alpha=0.3, lw=1, ax=ax)\n",
    "        y_real.append(y_test)\n",
    "        y_proba.append(probas_[:, 1])\n",
    "    \n",
    "    # visualize \n",
    "    y_real = np.concatenate(y_real)\n",
    "    y_proba = np.concatenate(y_proba)\n",
    "    precision, recall, _ = precision_recall_curve(y_real, y_proba)\n",
    "    \n",
    "    # update + save y_mean_auprs for plotting against unstratified y_mean_auprs\n",
    "    y_mean_auprs[y_prot_name] = average_precision_score(y_real, y_proba)\n",
    "    print(y_mean_auprs)\n",
    "    y_mean_auprs_path =  \"../data/strat_mean_auprs.pkl\"\n",
    "    pickle.dump(y_mean_auprs, open(y_mean_auprs_path, \"wb\" ))\n",
    "    \n",
    "    plt.plot(recall, precision, color='b',\n",
    "             label=r'Precision-Recall (AUC = %0.2f)' % (average_precision_score(y_real, y_proba)),\n",
    "             lw=2, alpha=.8)\n",
    "    ax.set(xlim=[-0.05, 1.05], ylim=[-0.05, 1.05],\n",
    "           title=\"Precision-Recall curve\")\n",
    "    ax.set_title(y_prot_name + \"Stratified PR Curve\")\n",
    "    ax.legend(loc=\"lower right\")\n",
    "    plt.figure(figsize=(11,11))\n",
    "    plt.show()"
   ]
  },
  {
   "cell_type": "code",
   "execution_count": null,
   "metadata": {},
   "outputs": [],
   "source": [
    "# # map disease to AUC for disease fold\n",
    "# auc_index = 0\n",
    "# disease_auc_dict = defaultdict(float)\n",
    "# for index in list(disease_dict.values()): \n",
    "#     disease_auc_dict[invdisease_dict[index]] = aucs[auc_index]\n",
    "#     auc_index += 1\n",
    "# disease_auc_dict"
   ]
  }
 ],
 "metadata": {
  "kernelspec": {
   "display_name": "Python 3",
   "language": "python",
   "name": "python3"
  },
  "language_info": {
   "codemirror_mode": {
    "name": "ipython",
    "version": 3
   },
   "file_extension": ".py",
   "mimetype": "text/x-python",
   "name": "python",
   "nbconvert_exporter": "python",
   "pygments_lexer": "ipython3",
   "version": "3.5.2"
  }
 },
 "nbformat": 4,
 "nbformat_minor": 4
}
